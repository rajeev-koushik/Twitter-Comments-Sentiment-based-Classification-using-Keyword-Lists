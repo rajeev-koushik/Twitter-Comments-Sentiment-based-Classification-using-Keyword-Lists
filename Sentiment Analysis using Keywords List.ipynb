{
 "cells": [
  {
   "cell_type": "code",
   "execution_count": null,
   "id": "740daf21",
   "metadata": {},
   "outputs": [],
   "source": [
    "import pandas as pd"
   ]
  },
  {
   "cell_type": "code",
   "execution_count": null,
   "id": "fde05136",
   "metadata": {},
   "outputs": [],
   "source": [
    "data = pd.read_csv(\"testComments.csv\", names=[\"Sentiment\", \"ID\", \"Date\", \"Query\", \"Username\", \"Tweet\"])\n",
    "data.head()"
   ]
  },
  {
   "cell_type": "code",
   "execution_count": null,
   "id": "2055fa85",
   "metadata": {},
   "outputs": [],
   "source": [
    "data.shape"
   ]
  },
  {
   "cell_type": "code",
   "execution_count": null,
   "id": "7afb62e2",
   "metadata": {},
   "outputs": [],
   "source": [
    "useful_data = data.drop(columns = [\"Sentiment\", \"ID\", \"Date\", \"Query\"], axis=1)\n",
    "useful_data.head()"
   ]
  },
  {
   "cell_type": "code",
   "execution_count": null,
   "id": "2a4191ed",
   "metadata": {},
   "outputs": [],
   "source": [
    "negative = [\"upset\", \"sad\", \"hurt\"]\n",
    "neg_data = useful_data[useful_data['Tweet'].str.contains('|'.join(negative))]\n",
    "neg_data"
   ]
  },
  {
   "cell_type": "code",
   "execution_count": null,
   "id": "c0e40d2f",
   "metadata": {},
   "outputs": [],
   "source": [
    "neg_data.to_csv(\"negativeComments.csv\", encoding='utf-8', index=False)\n",
    "print(\"Exported!\")"
   ]
  },
  {
   "cell_type": "code",
   "execution_count": null,
   "id": "ac086f5e",
   "metadata": {},
   "outputs": [],
   "source": [
    "positive = [\"happy\", \"excited\", \"great\"]\n",
    "pos_data = useful_data[useful_data['Tweet'].str.contains('|'.join(positive))]\n",
    "pos_data"
   ]
  },
  {
   "cell_type": "code",
   "execution_count": null,
   "id": "c3b75f00",
   "metadata": {},
   "outputs": [],
   "source": [
    "pos_data.to_csv(\"positiveComments.csv\", encoding='utf-8', index=False)\n",
    "print(\"Exported!\")"
   ]
  },
  {
   "cell_type": "code",
   "execution_count": null,
   "id": "09c8d988",
   "metadata": {},
   "outputs": [],
   "source": []
  }
 ],
 "metadata": {
  "kernelspec": {
   "display_name": "Python 3",
   "language": "python",
   "name": "python3"
  },
  "language_info": {
   "codemirror_mode": {
    "name": "ipython",
    "version": 3
   },
   "file_extension": ".py",
   "mimetype": "text/x-python",
   "name": "python",
   "nbconvert_exporter": "python",
   "pygments_lexer": "ipython3",
   "version": "3.8.8"
  }
 },
 "nbformat": 4,
 "nbformat_minor": 5
}
